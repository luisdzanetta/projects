{
  "cells": [
    {
      "cell_type": "markdown",
      "metadata": {
        "colab_type": "text",
        "id": "view-in-github"
      },
      "source": [
        "<a href=\"https://colab.research.google.com/github/luisdzanetta/portfolio_projetos/blob/main/Projeto_1_Teste_AB.ipynb\" target=\"_parent\"><img src=\"https://colab.research.google.com/assets/colab-badge.svg\" alt=\"Open In Colab\"/></a>"
      ]
    },
    {
      "cell_type": "markdown",
      "metadata": {
        "id": "ieMatXETcfrg"
      },
      "source": [
        "#**Chi-square approach AB test**"
      ]
    },
    {
      "cell_type": "markdown",
      "metadata": {
        "id": "pfxZ9gHGAeqO"
      },
      "source": [
        "##**Experiment setup**"
      ]
    },
    {
      "cell_type": "markdown",
      "metadata": {
        "id": "XHSXTnnBAjc1"
      },
      "source": [
        "#### **Data**\n",
        "[Kaggle - A/B testing Dataset](https://www.kaggle.com/datasets/zhangluyuan/ab-testing?resource=download)\n",
        "\n",
        "#### **Scenario**\n",
        "We will conduct an A/B test for a hypothetical company trying to increase sales of a **product XY** in the online store (e-commerce).\n",
        "\n",
        "#### **Objective**\n",
        "The objective of performing an A/B test is to assess whether a specific change on the sales page will lead to better performance in a specific metric.\n",
        "\n",
        "#### **Metrics**\n",
        "The current **conversion rate is 13%** (Page A). That is, for every 100 people who visit the page, 13 buy the **product XY**. For this example, we want to confirm that the changes made to the sales page (Page B) will result in an increase of at least **2%** in conversion.\n",
        "\n",
        "#### **Hypotheses**\n",
        "Considering that Page A is currently being used, i.e., with a conversion rate of 13%, and Page B is the modified page to be tested:\n",
        "\n",
        "$H_0$: There is no association between the page and the conversion rate.\n",
        "\n",
        "$H_1$: There is an association between the page and the conversion rate.\n",
        "\n",
        "---\n",
        "\n",
        "#### **Sample**\n",
        "The sample needed to observe the requested effect was calculated using the [pingouin](https://pingouin-stats.org/index.html) library and the software G * Power v.3.1.9.7 (G * Power, 2021; Bartlett, 2022), considering the following input parameters:\n",
        "\n",
        "**Test family:** Χ² tests\n",
        "\n",
        "**Statistic test:** Goodness-of-fit tests: Contingency tables\n",
        "\n",
        "**Effect size (d):** 0.02\n",
        "\n",
        "**Alpha (α):** 0.05\n",
        "\n",
        "**Power (1-β):** 0.95\n",
        "\n",
        "**Degrees of Freedom:** ${DF} = {(r-1)} * {(c-1)}$\n",
        "\n",
        "DF = Degree of Freedom;\n",
        "r = Number of rows;\n",
        "c = Number of columns\n"
      ]
    },
    {
      "cell_type": "markdown",
      "metadata": {
        "id": "kCxCyCjrP20S"
      },
      "source": [
        "##**Bibliotecas**"
      ]
    },
    {
      "cell_type": "code",
      "execution_count": null,
      "metadata": {
        "id": "rGUvAKDbK9bb"
      },
      "outputs": [],
      "source": [
        "#Bibliotecas\n",
        "import pandas as pd\n",
        "#! pip install pingouin\n",
        "import pingouin as pg\n",
        "from pingouin import power_chi2"
      ]
    },
    {
      "cell_type": "markdown",
      "metadata": {
        "id": "qoX7wqE4QfFO"
      },
      "source": [
        "##**Cálculo amostral**"
      ]
    },
    {
      "cell_type": "code",
      "execution_count": null,
      "metadata": {
        "colab": {
          "base_uri": "https://localhost:8080/"
        },
        "id": "yt4TRAYfQlYf",
        "outputId": "bd2e9ae4-4575-4ddc-e0c6-d073db1b1ea6"
      },
      "outputs": [
        {
          "name": "stdout",
          "output_type": "stream",
          "text": [
            "Amostra por grupo = 32487\n"
          ]
        }
      ],
      "source": [
        "#Cálculo amostral utilizando a função power_ttest da biblioteca pingouin\n",
        "\n",
        "sample_size = power_chi2(dof=1,\n",
        "                          w=0.02,\n",
        "                          power = 0.95,\n",
        "                          alpha = 0.05)\n",
        "\n",
        "print('Amostra por grupo = %.f' %sample_size)"
      ]
    },
    {
      "cell_type": "markdown",
      "metadata": {
        "id": "dntjcndWbLni"
      },
      "source": [
        "Cálculo amostral via G * Power\n",
        "\n",
        "![image.png](data:image/png;base64,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)"
      ]
    },
    {
      "cell_type": "markdown",
      "metadata": {
        "id": "sl8DXb-HP_-U"
      },
      "source": [
        "##**Base de Dados**"
      ]
    },
    {
      "cell_type": "code",
      "execution_count": null,
      "metadata": {
        "id": "SUcKJup0NMz2"
      },
      "outputs": [],
      "source": [
        "#Carregar BD\n",
        "#from google.colab import files\n",
        "#uploaded = files.upload()"
      ]
    },
    {
      "cell_type": "code",
      "execution_count": null,
      "metadata": {
        "id": "sZKCnCASN1Na"
      },
      "outputs": [],
      "source": [
        "df_raw = pd.read_csv('Projeto#1_Teste_AB.csv')"
      ]
    },
    {
      "cell_type": "code",
      "execution_count": null,
      "metadata": {
        "colab": {
          "base_uri": "https://localhost:8080/",
          "height": 206
        },
        "id": "Q6cfEZSLN7bG",
        "outputId": "47eadb64-db56-43a7-afca-fdd623e0c0b5"
      },
      "outputs": [
        {
          "data": {
            "text/html": [
              "\n",
              "  <div id=\"df-5997391c-e46f-4df8-8f22-46a91ed064d4\">\n",
              "    <div class=\"colab-df-container\">\n",
              "      <div>\n",
              "<style scoped>\n",
              "    .dataframe tbody tr th:only-of-type {\n",
              "        vertical-align: middle;\n",
              "    }\n",
              "\n",
              "    .dataframe tbody tr th {\n",
              "        vertical-align: top;\n",
              "    }\n",
              "\n",
              "    .dataframe thead th {\n",
              "        text-align: right;\n",
              "    }\n",
              "</style>\n",
              "<table border=\"1\" class=\"dataframe\">\n",
              "  <thead>\n",
              "    <tr style=\"text-align: right;\">\n",
              "      <th></th>\n",
              "      <th>user_id</th>\n",
              "      <th>timestamp</th>\n",
              "      <th>group</th>\n",
              "      <th>landing_page</th>\n",
              "      <th>converted</th>\n",
              "    </tr>\n",
              "  </thead>\n",
              "  <tbody>\n",
              "    <tr>\n",
              "      <th>0</th>\n",
              "      <td>851104</td>\n",
              "      <td>2017-01-21 22:11:48.556739</td>\n",
              "      <td>control</td>\n",
              "      <td>old_page</td>\n",
              "      <td>0</td>\n",
              "    </tr>\n",
              "    <tr>\n",
              "      <th>1</th>\n",
              "      <td>804228</td>\n",
              "      <td>2017-01-12 08:01:45.159739</td>\n",
              "      <td>control</td>\n",
              "      <td>old_page</td>\n",
              "      <td>0</td>\n",
              "    </tr>\n",
              "    <tr>\n",
              "      <th>2</th>\n",
              "      <td>661590</td>\n",
              "      <td>2017-01-11 16:55:06.154213</td>\n",
              "      <td>treatment</td>\n",
              "      <td>new_page</td>\n",
              "      <td>0</td>\n",
              "    </tr>\n",
              "    <tr>\n",
              "      <th>3</th>\n",
              "      <td>853541</td>\n",
              "      <td>2017-01-08 18:28:03.143765</td>\n",
              "      <td>treatment</td>\n",
              "      <td>new_page</td>\n",
              "      <td>0</td>\n",
              "    </tr>\n",
              "    <tr>\n",
              "      <th>4</th>\n",
              "      <td>864975</td>\n",
              "      <td>2017-01-21 01:52:26.210827</td>\n",
              "      <td>control</td>\n",
              "      <td>old_page</td>\n",
              "      <td>1</td>\n",
              "    </tr>\n",
              "  </tbody>\n",
              "</table>\n",
              "</div>\n",
              "      <button class=\"colab-df-convert\" onclick=\"convertToInteractive('df-5997391c-e46f-4df8-8f22-46a91ed064d4')\"\n",
              "              title=\"Convert this dataframe to an interactive table.\"\n",
              "              style=\"display:none;\">\n",
              "        \n",
              "  <svg xmlns=\"http://www.w3.org/2000/svg\" height=\"24px\"viewBox=\"0 0 24 24\"\n",
              "       width=\"24px\">\n",
              "    <path d=\"M0 0h24v24H0V0z\" fill=\"none\"/>\n",
              "    <path d=\"M18.56 5.44l.94 2.06.94-2.06 2.06-.94-2.06-.94-.94-2.06-.94 2.06-2.06.94zm-11 1L8.5 8.5l.94-2.06 2.06-.94-2.06-.94L8.5 2.5l-.94 2.06-2.06.94zm10 10l.94 2.06.94-2.06 2.06-.94-2.06-.94-.94-2.06-.94 2.06-2.06.94z\"/><path d=\"M17.41 7.96l-1.37-1.37c-.4-.4-.92-.59-1.43-.59-.52 0-1.04.2-1.43.59L10.3 9.45l-7.72 7.72c-.78.78-.78 2.05 0 2.83L4 21.41c.39.39.9.59 1.41.59.51 0 1.02-.2 1.41-.59l7.78-7.78 2.81-2.81c.8-.78.8-2.07 0-2.86zM5.41 20L4 18.59l7.72-7.72 1.47 1.35L5.41 20z\"/>\n",
              "  </svg>\n",
              "      </button>\n",
              "      \n",
              "  <style>\n",
              "    .colab-df-container {\n",
              "      display:flex;\n",
              "      flex-wrap:wrap;\n",
              "      gap: 12px;\n",
              "    }\n",
              "\n",
              "    .colab-df-convert {\n",
              "      background-color: #E8F0FE;\n",
              "      border: none;\n",
              "      border-radius: 50%;\n",
              "      cursor: pointer;\n",
              "      display: none;\n",
              "      fill: #1967D2;\n",
              "      height: 32px;\n",
              "      padding: 0 0 0 0;\n",
              "      width: 32px;\n",
              "    }\n",
              "\n",
              "    .colab-df-convert:hover {\n",
              "      background-color: #E2EBFA;\n",
              "      box-shadow: 0px 1px 2px rgba(60, 64, 67, 0.3), 0px 1px 3px 1px rgba(60, 64, 67, 0.15);\n",
              "      fill: #174EA6;\n",
              "    }\n",
              "\n",
              "    [theme=dark] .colab-df-convert {\n",
              "      background-color: #3B4455;\n",
              "      fill: #D2E3FC;\n",
              "    }\n",
              "\n",
              "    [theme=dark] .colab-df-convert:hover {\n",
              "      background-color: #434B5C;\n",
              "      box-shadow: 0px 1px 3px 1px rgba(0, 0, 0, 0.15);\n",
              "      filter: drop-shadow(0px 1px 2px rgba(0, 0, 0, 0.3));\n",
              "      fill: #FFFFFF;\n",
              "    }\n",
              "  </style>\n",
              "\n",
              "      <script>\n",
              "        const buttonEl =\n",
              "          document.querySelector('#df-5997391c-e46f-4df8-8f22-46a91ed064d4 button.colab-df-convert');\n",
              "        buttonEl.style.display =\n",
              "          google.colab.kernel.accessAllowed ? 'block' : 'none';\n",
              "\n",
              "        async function convertToInteractive(key) {\n",
              "          const element = document.querySelector('#df-5997391c-e46f-4df8-8f22-46a91ed064d4');\n",
              "          const dataTable =\n",
              "            await google.colab.kernel.invokeFunction('convertToInteractive',\n",
              "                                                     [key], {});\n",
              "          if (!dataTable) return;\n",
              "\n",
              "          const docLinkHtml = 'Like what you see? Visit the ' +\n",
              "            '<a target=\"_blank\" href=https://colab.research.google.com/notebooks/data_table.ipynb>data table notebook</a>'\n",
              "            + ' to learn more about interactive tables.';\n",
              "          element.innerHTML = '';\n",
              "          dataTable['output_type'] = 'display_data';\n",
              "          await google.colab.output.renderOutput(dataTable, element);\n",
              "          const docLink = document.createElement('div');\n",
              "          docLink.innerHTML = docLinkHtml;\n",
              "          element.appendChild(docLink);\n",
              "        }\n",
              "      </script>\n",
              "    </div>\n",
              "  </div>\n",
              "  "
            ],
            "text/plain": [
              "   user_id                   timestamp      group landing_page  converted\n",
              "0   851104  2017-01-21 22:11:48.556739    control     old_page          0\n",
              "1   804228  2017-01-12 08:01:45.159739    control     old_page          0\n",
              "2   661590  2017-01-11 16:55:06.154213  treatment     new_page          0\n",
              "3   853541  2017-01-08 18:28:03.143765  treatment     new_page          0\n",
              "4   864975  2017-01-21 01:52:26.210827    control     old_page          1"
            ]
          },
          "execution_count": 5,
          "metadata": {},
          "output_type": "execute_result"
        }
      ],
      "source": [
        "df_raw.head()"
      ]
    },
    {
      "cell_type": "markdown",
      "metadata": {
        "id": "YDhp63rJuDhT"
      },
      "source": [
        "##**Análise Descritiva**"
      ]
    },
    {
      "cell_type": "code",
      "execution_count": null,
      "metadata": {
        "colab": {
          "base_uri": "https://localhost:8080/"
        },
        "id": "fR2_z3dWuCnc",
        "outputId": "879dda58-36cf-4f33-c46b-36820a62204f"
      },
      "outputs": [
        {
          "name": "stdout",
          "output_type": "stream",
          "text": [
            "Número de linhas: 294478\n",
            "Número de colunas: 5\n"
          ]
        }
      ],
      "source": [
        "#Número de linhas e de colunas do df\n",
        "print('Número de linhas: %.f' %df_raw.shape[0])\n",
        "print('Número de colunas: %.f' %df_raw.shape[1])"
      ]
    },
    {
      "cell_type": "code",
      "execution_count": null,
      "metadata": {
        "colab": {
          "base_uri": "https://localhost:8080/"
        },
        "id": "LWHBKM85uXNn",
        "outputId": "2f1e72e7-d397-4b0a-d120-9182f306cf32"
      },
      "outputs": [
        {
          "data": {
            "text/plain": [
              "user_id         0\n",
              "timestamp       0\n",
              "group           0\n",
              "landing_page    0\n",
              "converted       0\n",
              "dtype: int64"
            ]
          },
          "execution_count": 7,
          "metadata": {},
          "output_type": "execute_result"
        }
      ],
      "source": [
        "#Check: NA\n",
        "df_raw.isna().sum()"
      ]
    },
    {
      "cell_type": "code",
      "execution_count": null,
      "metadata": {
        "colab": {
          "base_uri": "https://localhost:8080/",
          "height": 175
        },
        "id": "CtO3aHpuvEI1",
        "outputId": "80c8f642-e6f5-4cd2-efa2-5ba551dc9d23"
      },
      "outputs": [
        {
          "data": {
            "text/html": [
              "\n",
              "  <div id=\"df-2726fd6f-01f2-44c8-8510-658b04cb5f14\">\n",
              "    <div class=\"colab-df-container\">\n",
              "      <div>\n",
              "<style scoped>\n",
              "    .dataframe tbody tr th:only-of-type {\n",
              "        vertical-align: middle;\n",
              "    }\n",
              "\n",
              "    .dataframe tbody tr th {\n",
              "        vertical-align: top;\n",
              "    }\n",
              "\n",
              "    .dataframe thead th {\n",
              "        text-align: right;\n",
              "    }\n",
              "</style>\n",
              "<table border=\"1\" class=\"dataframe\">\n",
              "  <thead>\n",
              "    <tr style=\"text-align: right;\">\n",
              "      <th></th>\n",
              "      <th>group</th>\n",
              "      <th>landing_page</th>\n",
              "      <th>user_id</th>\n",
              "    </tr>\n",
              "  </thead>\n",
              "  <tbody>\n",
              "    <tr>\n",
              "      <th>0</th>\n",
              "      <td>control</td>\n",
              "      <td>new_page</td>\n",
              "      <td>1928</td>\n",
              "    </tr>\n",
              "    <tr>\n",
              "      <th>1</th>\n",
              "      <td>control</td>\n",
              "      <td>old_page</td>\n",
              "      <td>145274</td>\n",
              "    </tr>\n",
              "    <tr>\n",
              "      <th>2</th>\n",
              "      <td>treatment</td>\n",
              "      <td>new_page</td>\n",
              "      <td>145311</td>\n",
              "    </tr>\n",
              "    <tr>\n",
              "      <th>3</th>\n",
              "      <td>treatment</td>\n",
              "      <td>old_page</td>\n",
              "      <td>1965</td>\n",
              "    </tr>\n",
              "  </tbody>\n",
              "</table>\n",
              "</div>\n",
              "      <button class=\"colab-df-convert\" onclick=\"convertToInteractive('df-2726fd6f-01f2-44c8-8510-658b04cb5f14')\"\n",
              "              title=\"Convert this dataframe to an interactive table.\"\n",
              "              style=\"display:none;\">\n",
              "        \n",
              "  <svg xmlns=\"http://www.w3.org/2000/svg\" height=\"24px\"viewBox=\"0 0 24 24\"\n",
              "       width=\"24px\">\n",
              "    <path d=\"M0 0h24v24H0V0z\" fill=\"none\"/>\n",
              "    <path d=\"M18.56 5.44l.94 2.06.94-2.06 2.06-.94-2.06-.94-.94-2.06-.94 2.06-2.06.94zm-11 1L8.5 8.5l.94-2.06 2.06-.94-2.06-.94L8.5 2.5l-.94 2.06-2.06.94zm10 10l.94 2.06.94-2.06 2.06-.94-2.06-.94-.94-2.06-.94 2.06-2.06.94z\"/><path d=\"M17.41 7.96l-1.37-1.37c-.4-.4-.92-.59-1.43-.59-.52 0-1.04.2-1.43.59L10.3 9.45l-7.72 7.72c-.78.78-.78 2.05 0 2.83L4 21.41c.39.39.9.59 1.41.59.51 0 1.02-.2 1.41-.59l7.78-7.78 2.81-2.81c.8-.78.8-2.07 0-2.86zM5.41 20L4 18.59l7.72-7.72 1.47 1.35L5.41 20z\"/>\n",
              "  </svg>\n",
              "      </button>\n",
              "      \n",
              "  <style>\n",
              "    .colab-df-container {\n",
              "      display:flex;\n",
              "      flex-wrap:wrap;\n",
              "      gap: 12px;\n",
              "    }\n",
              "\n",
              "    .colab-df-convert {\n",
              "      background-color: #E8F0FE;\n",
              "      border: none;\n",
              "      border-radius: 50%;\n",
              "      cursor: pointer;\n",
              "      display: none;\n",
              "      fill: #1967D2;\n",
              "      height: 32px;\n",
              "      padding: 0 0 0 0;\n",
              "      width: 32px;\n",
              "    }\n",
              "\n",
              "    .colab-df-convert:hover {\n",
              "      background-color: #E2EBFA;\n",
              "      box-shadow: 0px 1px 2px rgba(60, 64, 67, 0.3), 0px 1px 3px 1px rgba(60, 64, 67, 0.15);\n",
              "      fill: #174EA6;\n",
              "    }\n",
              "\n",
              "    [theme=dark] .colab-df-convert {\n",
              "      background-color: #3B4455;\n",
              "      fill: #D2E3FC;\n",
              "    }\n",
              "\n",
              "    [theme=dark] .colab-df-convert:hover {\n",
              "      background-color: #434B5C;\n",
              "      box-shadow: 0px 1px 3px 1px rgba(0, 0, 0, 0.15);\n",
              "      filter: drop-shadow(0px 1px 2px rgba(0, 0, 0, 0.3));\n",
              "      fill: #FFFFFF;\n",
              "    }\n",
              "  </style>\n",
              "\n",
              "      <script>\n",
              "        const buttonEl =\n",
              "          document.querySelector('#df-2726fd6f-01f2-44c8-8510-658b04cb5f14 button.colab-df-convert');\n",
              "        buttonEl.style.display =\n",
              "          google.colab.kernel.accessAllowed ? 'block' : 'none';\n",
              "\n",
              "        async function convertToInteractive(key) {\n",
              "          const element = document.querySelector('#df-2726fd6f-01f2-44c8-8510-658b04cb5f14');\n",
              "          const dataTable =\n",
              "            await google.colab.kernel.invokeFunction('convertToInteractive',\n",
              "                                                     [key], {});\n",
              "          if (!dataTable) return;\n",
              "\n",
              "          const docLinkHtml = 'Like what you see? Visit the ' +\n",
              "            '<a target=\"_blank\" href=https://colab.research.google.com/notebooks/data_table.ipynb>data table notebook</a>'\n",
              "            + ' to learn more about interactive tables.';\n",
              "          element.innerHTML = '';\n",
              "          dataTable['output_type'] = 'display_data';\n",
              "          await google.colab.output.renderOutput(dataTable, element);\n",
              "          const docLink = document.createElement('div');\n",
              "          docLink.innerHTML = docLinkHtml;\n",
              "          element.appendChild(docLink);\n",
              "        }\n",
              "      </script>\n",
              "    </div>\n",
              "  </div>\n",
              "  "
            ],
            "text/plain": [
              "       group landing_page  user_id\n",
              "0    control     new_page     1928\n",
              "1    control     old_page   145274\n",
              "2  treatment     new_page   145311\n",
              "3  treatment     old_page     1965"
            ]
          },
          "execution_count": 8,
          "metadata": {},
          "output_type": "execute_result"
        }
      ],
      "source": [
        "#Check1: control = old_page & treatment = new_page\n",
        "df_raw[['user_id',\n",
        "        'group',\n",
        "        'landing_page']].groupby(['group',\n",
        "                                  'landing_page']).count().reset_index()"
      ]
    },
    {
      "cell_type": "code",
      "execution_count": null,
      "metadata": {
        "colab": {
          "base_uri": "https://localhost:8080/"
        },
        "id": "chJrtC8JwEmd",
        "outputId": "fd4a7614-a13e-4ecc-f3b8-42dcc4484b4d"
      },
      "outputs": [
        {
          "name": "stdout",
          "output_type": "stream",
          "text": [
            "O número de usuários duplicados é: 3894\n"
          ]
        }
      ],
      "source": [
        "#Identificar valores que estão duplicados, ou seja, em ambos os grupos\n",
        "df_user_delete = df_raw[['user_id',\n",
        "                         'group',\n",
        "                         'landing_page']].groupby(['user_id']).count().reset_index().query('group > 1')\n",
        "print('O número de usuários duplicados é: %.f' %df_user_delete.shape[0])"
      ]
    },
    {
      "cell_type": "code",
      "execution_count": null,
      "metadata": {
        "colab": {
          "base_uri": "https://localhost:8080/"
        },
        "id": "KNwxGT24xHE9",
        "outputId": "64ad0641-f286-4356-bb39-e5f546351b86"
      },
      "outputs": [
        {
          "name": "stdout",
          "output_type": "stream",
          "text": [
            "O número de usuários após deletar os user_id duplicados é: 286690\n"
          ]
        }
      ],
      "source": [
        "#Deletar usuários duplicados\n",
        "df1 = df_raw.drop_duplicates('user_id', keep=False)\n",
        "print('O número de usuários após deletar os user_id duplicados é: %.f' %df1.shape[0])"
      ]
    },
    {
      "cell_type": "code",
      "execution_count": null,
      "metadata": {
        "colab": {
          "base_uri": "https://localhost:8080/",
          "height": 112
        },
        "id": "SjGdELmNyjvE",
        "outputId": "3cfee456-d554-4070-944f-653b3e82cd48"
      },
      "outputs": [
        {
          "data": {
            "text/html": [
              "\n",
              "  <div id=\"df-19ae1fcb-08f6-4144-bfe5-a3743a3a64e8\">\n",
              "    <div class=\"colab-df-container\">\n",
              "      <div>\n",
              "<style scoped>\n",
              "    .dataframe tbody tr th:only-of-type {\n",
              "        vertical-align: middle;\n",
              "    }\n",
              "\n",
              "    .dataframe tbody tr th {\n",
              "        vertical-align: top;\n",
              "    }\n",
              "\n",
              "    .dataframe thead th {\n",
              "        text-align: right;\n",
              "    }\n",
              "</style>\n",
              "<table border=\"1\" class=\"dataframe\">\n",
              "  <thead>\n",
              "    <tr style=\"text-align: right;\">\n",
              "      <th></th>\n",
              "      <th>group</th>\n",
              "      <th>landing_page</th>\n",
              "      <th>user_id</th>\n",
              "    </tr>\n",
              "  </thead>\n",
              "  <tbody>\n",
              "    <tr>\n",
              "      <th>0</th>\n",
              "      <td>control</td>\n",
              "      <td>old_page</td>\n",
              "      <td>143293</td>\n",
              "    </tr>\n",
              "    <tr>\n",
              "      <th>1</th>\n",
              "      <td>treatment</td>\n",
              "      <td>new_page</td>\n",
              "      <td>143397</td>\n",
              "    </tr>\n",
              "  </tbody>\n",
              "</table>\n",
              "</div>\n",
              "      <button class=\"colab-df-convert\" onclick=\"convertToInteractive('df-19ae1fcb-08f6-4144-bfe5-a3743a3a64e8')\"\n",
              "              title=\"Convert this dataframe to an interactive table.\"\n",
              "              style=\"display:none;\">\n",
              "        \n",
              "  <svg xmlns=\"http://www.w3.org/2000/svg\" height=\"24px\"viewBox=\"0 0 24 24\"\n",
              "       width=\"24px\">\n",
              "    <path d=\"M0 0h24v24H0V0z\" fill=\"none\"/>\n",
              "    <path d=\"M18.56 5.44l.94 2.06.94-2.06 2.06-.94-2.06-.94-.94-2.06-.94 2.06-2.06.94zm-11 1L8.5 8.5l.94-2.06 2.06-.94-2.06-.94L8.5 2.5l-.94 2.06-2.06.94zm10 10l.94 2.06.94-2.06 2.06-.94-2.06-.94-.94-2.06-.94 2.06-2.06.94z\"/><path d=\"M17.41 7.96l-1.37-1.37c-.4-.4-.92-.59-1.43-.59-.52 0-1.04.2-1.43.59L10.3 9.45l-7.72 7.72c-.78.78-.78 2.05 0 2.83L4 21.41c.39.39.9.59 1.41.59.51 0 1.02-.2 1.41-.59l7.78-7.78 2.81-2.81c.8-.78.8-2.07 0-2.86zM5.41 20L4 18.59l7.72-7.72 1.47 1.35L5.41 20z\"/>\n",
              "  </svg>\n",
              "      </button>\n",
              "      \n",
              "  <style>\n",
              "    .colab-df-container {\n",
              "      display:flex;\n",
              "      flex-wrap:wrap;\n",
              "      gap: 12px;\n",
              "    }\n",
              "\n",
              "    .colab-df-convert {\n",
              "      background-color: #E8F0FE;\n",
              "      border: none;\n",
              "      border-radius: 50%;\n",
              "      cursor: pointer;\n",
              "      display: none;\n",
              "      fill: #1967D2;\n",
              "      height: 32px;\n",
              "      padding: 0 0 0 0;\n",
              "      width: 32px;\n",
              "    }\n",
              "\n",
              "    .colab-df-convert:hover {\n",
              "      background-color: #E2EBFA;\n",
              "      box-shadow: 0px 1px 2px rgba(60, 64, 67, 0.3), 0px 1px 3px 1px rgba(60, 64, 67, 0.15);\n",
              "      fill: #174EA6;\n",
              "    }\n",
              "\n",
              "    [theme=dark] .colab-df-convert {\n",
              "      background-color: #3B4455;\n",
              "      fill: #D2E3FC;\n",
              "    }\n",
              "\n",
              "    [theme=dark] .colab-df-convert:hover {\n",
              "      background-color: #434B5C;\n",
              "      box-shadow: 0px 1px 3px 1px rgba(0, 0, 0, 0.15);\n",
              "      filter: drop-shadow(0px 1px 2px rgba(0, 0, 0, 0.3));\n",
              "      fill: #FFFFFF;\n",
              "    }\n",
              "  </style>\n",
              "\n",
              "      <script>\n",
              "        const buttonEl =\n",
              "          document.querySelector('#df-19ae1fcb-08f6-4144-bfe5-a3743a3a64e8 button.colab-df-convert');\n",
              "        buttonEl.style.display =\n",
              "          google.colab.kernel.accessAllowed ? 'block' : 'none';\n",
              "\n",
              "        async function convertToInteractive(key) {\n",
              "          const element = document.querySelector('#df-19ae1fcb-08f6-4144-bfe5-a3743a3a64e8');\n",
              "          const dataTable =\n",
              "            await google.colab.kernel.invokeFunction('convertToInteractive',\n",
              "                                                     [key], {});\n",
              "          if (!dataTable) return;\n",
              "\n",
              "          const docLinkHtml = 'Like what you see? Visit the ' +\n",
              "            '<a target=\"_blank\" href=https://colab.research.google.com/notebooks/data_table.ipynb>data table notebook</a>'\n",
              "            + ' to learn more about interactive tables.';\n",
              "          element.innerHTML = '';\n",
              "          dataTable['output_type'] = 'display_data';\n",
              "          await google.colab.output.renderOutput(dataTable, element);\n",
              "          const docLink = document.createElement('div');\n",
              "          docLink.innerHTML = docLinkHtml;\n",
              "          element.appendChild(docLink);\n",
              "        }\n",
              "      </script>\n",
              "    </div>\n",
              "  </div>\n",
              "  "
            ],
            "text/plain": [
              "       group landing_page  user_id\n",
              "0    control     old_page   143293\n",
              "1  treatment     new_page   143397"
            ]
          },
          "execution_count": 11,
          "metadata": {},
          "output_type": "execute_result"
        }
      ],
      "source": [
        "#Check2: control = old_page & treatment = new_page\n",
        "df1[['user_id',\n",
        "        'group',\n",
        "        'landing_page']].groupby(['group',\n",
        "                                  'landing_page']).count().reset_index()"
      ]
    },
    {
      "cell_type": "markdown",
      "metadata": {
        "id": "q05NBlir6ROF"
      },
      "source": [
        "##**Amostragem**"
      ]
    },
    {
      "cell_type": "code",
      "execution_count": null,
      "metadata": {
        "colab": {
          "base_uri": "https://localhost:8080/"
        },
        "id": "fH0XfNxI2KYk",
        "outputId": "ddbe6c52-4bec-447e-d11e-6c9f7d5812a2"
      },
      "outputs": [
        {
          "name": "stdout",
          "output_type": "stream",
          "text": [
            "N Grupo Controle = 16243\n",
            "N Grupo Tratamento = 16243\n",
            "N df_ab = 32486\n"
          ]
        }
      ],
      "source": [
        "#Grupo Controle (A)\n",
        "df_gc = df1[df1['group'] == 'control'].sample(n=int(sample_size/2), random_state = 42)\n",
        "print('N Grupo Controle = %.f' %df_gc.shape[0])\n",
        "\n",
        "#Grupo Tratamento (B)\n",
        "df_gt = df1[df1['group'] == 'treatment'].sample(n=int(sample_size/2), random_state = 42)\n",
        "print('N Grupo Tratamento = %.f' %df_gt.shape[0])\n",
        "\n",
        "#Concatenar os grupos em um df\n",
        "df_ab = pd.concat([df_gc, df_gt]).reset_index(drop = True)\n",
        "print('N df_ab = %.f' %df_ab.shape[0])"
      ]
    },
    {
      "cell_type": "markdown",
      "metadata": {
        "id": "pjHJzDRY-EiI"
      },
      "source": [
        "##**Cálculo da conversão das páginas**"
      ]
    },
    {
      "cell_type": "markdown",
      "metadata": {
        "id": "qrSmFunw-jA9"
      },
      "source": [
        "${Conversão} = \\frac{Clientes}{Visitantes}$"
      ]
    },
    {
      "cell_type": "code",
      "execution_count": null,
      "metadata": {
        "colab": {
          "base_uri": "https://localhost:8080/"
        },
        "id": "wAhaZoG3-BIQ",
        "outputId": "39bffda0-2104-4705-f603-1c3aa4f94973"
      },
      "outputs": [
        {
          "name": "stdout",
          "output_type": "stream",
          "text": [
            "A taxa de conversão da página A foi de 11.94%\n",
            "A taxa de conversao da página B foi de 12.05%\n"
          ]
        }
      ],
      "source": [
        "#Conversão página A - Controle\n",
        "clientes_gc = df_gc.loc[df_gc['converted'] == 1, 'converted'].sum()\n",
        "visitantes_gc = df_gc.shape[0]\n",
        "conversao_gc = clientes_gc / visitantes_gc\n",
        "\n",
        "print('A taxa de conversão da página A foi de {:.2f}%' .format(conversao_gc*100))\n",
        "\n",
        "#Conversão página B - Tratamento\n",
        "clientes_gt = df_gt.loc[df_gt['converted'] == 1, 'converted'].sum()\n",
        "visitantes_gt = df_gt.shape[0]\n",
        "conversao_gt = clientes_gt / visitantes_gt\n",
        "\n",
        "print('A taxa de conversao da página B foi de {:.2f}%' .format(conversao_gt*100))"
      ]
    },
    {
      "cell_type": "markdown",
      "metadata": {
        "id": "QRodGA_KTGS8"
      },
      "source": [
        "##**Teste Estatístico - Qui-Quadrado**"
      ]
    },
    {
      "cell_type": "markdown",
      "metadata": {
        "id": "iSuywqHMVUwp"
      },
      "source": [
        "**Qui-Quadrado (χ2) definição:** A statistic having, at least approximately, a chi-squared distribution. An example is the test statistic used to assess the independence :of the two variables forming a contingency table where Oi represents an observed frequency and Ei the expected frequency under independence. Under the hypothesis of independence χ2 has, approximately, a chi-squared distribution with (r−1)(c−1) degrees of freedom [(Everitt & Skrondal, 2010)](http://www.stewartschultz.com/statistics/books/Cambridge%20Dictionary%20Statistics%204th.pdf).\n",
        "\n",
        "![Chi-Squared2.png](data:image/png;base64,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)\n"
      ]
    },
    {
      "cell_type": "code",
      "execution_count": null,
      "metadata": {
        "id": "vf8pSRmh_6Kw"
      },
      "outputs": [],
      "source": [
        "#Qui-Quadrado (Chi-sqaured [χ2])\n",
        "\n",
        "expected, observed, stats = pg.chi2_independence(df_ab, x='group',\n",
        "                                                 y='converted')\n"
      ]
    },
    {
      "cell_type": "code",
      "execution_count": null,
      "metadata": {
        "colab": {
          "base_uri": "https://localhost:8080/",
          "height": 143
        },
        "id": "0UJyFUAqTRJb",
        "outputId": "ddca809b-dbc0-40d7-a921-f0898ca9020c"
      },
      "outputs": [
        {
          "data": {
            "text/html": [
              "\n",
              "  <div id=\"df-aa59965a-5411-40e6-9249-a595e7ed2029\">\n",
              "    <div class=\"colab-df-container\">\n",
              "      <div>\n",
              "<style scoped>\n",
              "    .dataframe tbody tr th:only-of-type {\n",
              "        vertical-align: middle;\n",
              "    }\n",
              "\n",
              "    .dataframe tbody tr th {\n",
              "        vertical-align: top;\n",
              "    }\n",
              "\n",
              "    .dataframe thead th {\n",
              "        text-align: right;\n",
              "    }\n",
              "</style>\n",
              "<table border=\"1\" class=\"dataframe\">\n",
              "  <thead>\n",
              "    <tr style=\"text-align: right;\">\n",
              "      <th>converted</th>\n",
              "      <th>0</th>\n",
              "      <th>1</th>\n",
              "    </tr>\n",
              "    <tr>\n",
              "      <th>group</th>\n",
              "      <th></th>\n",
              "      <th></th>\n",
              "    </tr>\n",
              "  </thead>\n",
              "  <tbody>\n",
              "    <tr>\n",
              "      <th>control</th>\n",
              "      <td>14294.5</td>\n",
              "      <td>1948.5</td>\n",
              "    </tr>\n",
              "    <tr>\n",
              "      <th>treatment</th>\n",
              "      <td>14294.5</td>\n",
              "      <td>1948.5</td>\n",
              "    </tr>\n",
              "  </tbody>\n",
              "</table>\n",
              "</div>\n",
              "      <button class=\"colab-df-convert\" onclick=\"convertToInteractive('df-aa59965a-5411-40e6-9249-a595e7ed2029')\"\n",
              "              title=\"Convert this dataframe to an interactive table.\"\n",
              "              style=\"display:none;\">\n",
              "        \n",
              "  <svg xmlns=\"http://www.w3.org/2000/svg\" height=\"24px\"viewBox=\"0 0 24 24\"\n",
              "       width=\"24px\">\n",
              "    <path d=\"M0 0h24v24H0V0z\" fill=\"none\"/>\n",
              "    <path d=\"M18.56 5.44l.94 2.06.94-2.06 2.06-.94-2.06-.94-.94-2.06-.94 2.06-2.06.94zm-11 1L8.5 8.5l.94-2.06 2.06-.94-2.06-.94L8.5 2.5l-.94 2.06-2.06.94zm10 10l.94 2.06.94-2.06 2.06-.94-2.06-.94-.94-2.06-.94 2.06-2.06.94z\"/><path d=\"M17.41 7.96l-1.37-1.37c-.4-.4-.92-.59-1.43-.59-.52 0-1.04.2-1.43.59L10.3 9.45l-7.72 7.72c-.78.78-.78 2.05 0 2.83L4 21.41c.39.39.9.59 1.41.59.51 0 1.02-.2 1.41-.59l7.78-7.78 2.81-2.81c.8-.78.8-2.07 0-2.86zM5.41 20L4 18.59l7.72-7.72 1.47 1.35L5.41 20z\"/>\n",
              "  </svg>\n",
              "      </button>\n",
              "      \n",
              "  <style>\n",
              "    .colab-df-container {\n",
              "      display:flex;\n",
              "      flex-wrap:wrap;\n",
              "      gap: 12px;\n",
              "    }\n",
              "\n",
              "    .colab-df-convert {\n",
              "      background-color: #E8F0FE;\n",
              "      border: none;\n",
              "      border-radius: 50%;\n",
              "      cursor: pointer;\n",
              "      display: none;\n",
              "      fill: #1967D2;\n",
              "      height: 32px;\n",
              "      padding: 0 0 0 0;\n",
              "      width: 32px;\n",
              "    }\n",
              "\n",
              "    .colab-df-convert:hover {\n",
              "      background-color: #E2EBFA;\n",
              "      box-shadow: 0px 1px 2px rgba(60, 64, 67, 0.3), 0px 1px 3px 1px rgba(60, 64, 67, 0.15);\n",
              "      fill: #174EA6;\n",
              "    }\n",
              "\n",
              "    [theme=dark] .colab-df-convert {\n",
              "      background-color: #3B4455;\n",
              "      fill: #D2E3FC;\n",
              "    }\n",
              "\n",
              "    [theme=dark] .colab-df-convert:hover {\n",
              "      background-color: #434B5C;\n",
              "      box-shadow: 0px 1px 3px 1px rgba(0, 0, 0, 0.15);\n",
              "      filter: drop-shadow(0px 1px 2px rgba(0, 0, 0, 0.3));\n",
              "      fill: #FFFFFF;\n",
              "    }\n",
              "  </style>\n",
              "\n",
              "      <script>\n",
              "        const buttonEl =\n",
              "          document.querySelector('#df-aa59965a-5411-40e6-9249-a595e7ed2029 button.colab-df-convert');\n",
              "        buttonEl.style.display =\n",
              "          google.colab.kernel.accessAllowed ? 'block' : 'none';\n",
              "\n",
              "        async function convertToInteractive(key) {\n",
              "          const element = document.querySelector('#df-aa59965a-5411-40e6-9249-a595e7ed2029');\n",
              "          const dataTable =\n",
              "            await google.colab.kernel.invokeFunction('convertToInteractive',\n",
              "                                                     [key], {});\n",
              "          if (!dataTable) return;\n",
              "\n",
              "          const docLinkHtml = 'Like what you see? Visit the ' +\n",
              "            '<a target=\"_blank\" href=https://colab.research.google.com/notebooks/data_table.ipynb>data table notebook</a>'\n",
              "            + ' to learn more about interactive tables.';\n",
              "          element.innerHTML = '';\n",
              "          dataTable['output_type'] = 'display_data';\n",
              "          await google.colab.output.renderOutput(dataTable, element);\n",
              "          const docLink = document.createElement('div');\n",
              "          docLink.innerHTML = docLinkHtml;\n",
              "          element.appendChild(docLink);\n",
              "        }\n",
              "      </script>\n",
              "    </div>\n",
              "  </div>\n",
              "  "
            ],
            "text/plain": [
              "converted        0       1\n",
              "group                     \n",
              "control    14294.5  1948.5\n",
              "treatment  14294.5  1948.5"
            ]
          },
          "execution_count": 15,
          "metadata": {},
          "output_type": "execute_result"
        }
      ],
      "source": [
        "#Valores esperados\n",
        "\n",
        "expected"
      ]
    },
    {
      "cell_type": "code",
      "execution_count": null,
      "metadata": {
        "colab": {
          "base_uri": "https://localhost:8080/",
          "height": 143
        },
        "id": "8dRLWxtaUGIp",
        "outputId": "0a09be78-c948-490d-d52d-17e8fb5f412b"
      },
      "outputs": [
        {
          "data": {
            "text/html": [
              "\n",
              "  <div id=\"df-4390925f-b6ff-4674-ba23-c2ea1e7eb07a\">\n",
              "    <div class=\"colab-df-container\">\n",
              "      <div>\n",
              "<style scoped>\n",
              "    .dataframe tbody tr th:only-of-type {\n",
              "        vertical-align: middle;\n",
              "    }\n",
              "\n",
              "    .dataframe tbody tr th {\n",
              "        vertical-align: top;\n",
              "    }\n",
              "\n",
              "    .dataframe thead th {\n",
              "        text-align: right;\n",
              "    }\n",
              "</style>\n",
              "<table border=\"1\" class=\"dataframe\">\n",
              "  <thead>\n",
              "    <tr style=\"text-align: right;\">\n",
              "      <th>converted</th>\n",
              "      <th>0</th>\n",
              "      <th>1</th>\n",
              "    </tr>\n",
              "    <tr>\n",
              "      <th>group</th>\n",
              "      <th></th>\n",
              "      <th></th>\n",
              "    </tr>\n",
              "  </thead>\n",
              "  <tbody>\n",
              "    <tr>\n",
              "      <th>control</th>\n",
              "      <td>14303.5</td>\n",
              "      <td>1939.5</td>\n",
              "    </tr>\n",
              "    <tr>\n",
              "      <th>treatment</th>\n",
              "      <td>14285.5</td>\n",
              "      <td>1957.5</td>\n",
              "    </tr>\n",
              "  </tbody>\n",
              "</table>\n",
              "</div>\n",
              "      <button class=\"colab-df-convert\" onclick=\"convertToInteractive('df-4390925f-b6ff-4674-ba23-c2ea1e7eb07a')\"\n",
              "              title=\"Convert this dataframe to an interactive table.\"\n",
              "              style=\"display:none;\">\n",
              "        \n",
              "  <svg xmlns=\"http://www.w3.org/2000/svg\" height=\"24px\"viewBox=\"0 0 24 24\"\n",
              "       width=\"24px\">\n",
              "    <path d=\"M0 0h24v24H0V0z\" fill=\"none\"/>\n",
              "    <path d=\"M18.56 5.44l.94 2.06.94-2.06 2.06-.94-2.06-.94-.94-2.06-.94 2.06-2.06.94zm-11 1L8.5 8.5l.94-2.06 2.06-.94-2.06-.94L8.5 2.5l-.94 2.06-2.06.94zm10 10l.94 2.06.94-2.06 2.06-.94-2.06-.94-.94-2.06-.94 2.06-2.06.94z\"/><path d=\"M17.41 7.96l-1.37-1.37c-.4-.4-.92-.59-1.43-.59-.52 0-1.04.2-1.43.59L10.3 9.45l-7.72 7.72c-.78.78-.78 2.05 0 2.83L4 21.41c.39.39.9.59 1.41.59.51 0 1.02-.2 1.41-.59l7.78-7.78 2.81-2.81c.8-.78.8-2.07 0-2.86zM5.41 20L4 18.59l7.72-7.72 1.47 1.35L5.41 20z\"/>\n",
              "  </svg>\n",
              "      </button>\n",
              "      \n",
              "  <style>\n",
              "    .colab-df-container {\n",
              "      display:flex;\n",
              "      flex-wrap:wrap;\n",
              "      gap: 12px;\n",
              "    }\n",
              "\n",
              "    .colab-df-convert {\n",
              "      background-color: #E8F0FE;\n",
              "      border: none;\n",
              "      border-radius: 50%;\n",
              "      cursor: pointer;\n",
              "      display: none;\n",
              "      fill: #1967D2;\n",
              "      height: 32px;\n",
              "      padding: 0 0 0 0;\n",
              "      width: 32px;\n",
              "    }\n",
              "\n",
              "    .colab-df-convert:hover {\n",
              "      background-color: #E2EBFA;\n",
              "      box-shadow: 0px 1px 2px rgba(60, 64, 67, 0.3), 0px 1px 3px 1px rgba(60, 64, 67, 0.15);\n",
              "      fill: #174EA6;\n",
              "    }\n",
              "\n",
              "    [theme=dark] .colab-df-convert {\n",
              "      background-color: #3B4455;\n",
              "      fill: #D2E3FC;\n",
              "    }\n",
              "\n",
              "    [theme=dark] .colab-df-convert:hover {\n",
              "      background-color: #434B5C;\n",
              "      box-shadow: 0px 1px 3px 1px rgba(0, 0, 0, 0.15);\n",
              "      filter: drop-shadow(0px 1px 2px rgba(0, 0, 0, 0.3));\n",
              "      fill: #FFFFFF;\n",
              "    }\n",
              "  </style>\n",
              "\n",
              "      <script>\n",
              "        const buttonEl =\n",
              "          document.querySelector('#df-4390925f-b6ff-4674-ba23-c2ea1e7eb07a button.colab-df-convert');\n",
              "        buttonEl.style.display =\n",
              "          google.colab.kernel.accessAllowed ? 'block' : 'none';\n",
              "\n",
              "        async function convertToInteractive(key) {\n",
              "          const element = document.querySelector('#df-4390925f-b6ff-4674-ba23-c2ea1e7eb07a');\n",
              "          const dataTable =\n",
              "            await google.colab.kernel.invokeFunction('convertToInteractive',\n",
              "                                                     [key], {});\n",
              "          if (!dataTable) return;\n",
              "\n",
              "          const docLinkHtml = 'Like what you see? Visit the ' +\n",
              "            '<a target=\"_blank\" href=https://colab.research.google.com/notebooks/data_table.ipynb>data table notebook</a>'\n",
              "            + ' to learn more about interactive tables.';\n",
              "          element.innerHTML = '';\n",
              "          dataTable['output_type'] = 'display_data';\n",
              "          await google.colab.output.renderOutput(dataTable, element);\n",
              "          const docLink = document.createElement('div');\n",
              "          docLink.innerHTML = docLinkHtml;\n",
              "          element.appendChild(docLink);\n",
              "        }\n",
              "      </script>\n",
              "    </div>\n",
              "  </div>\n",
              "  "
            ],
            "text/plain": [
              "converted        0       1\n",
              "group                     \n",
              "control    14303.5  1939.5\n",
              "treatment  14285.5  1957.5"
            ]
          },
          "execution_count": 16,
          "metadata": {},
          "output_type": "execute_result"
        }
      ],
      "source": [
        "#Valores observados\n",
        "\n",
        "observed"
      ]
    },
    {
      "cell_type": "markdown",
      "metadata": {
        "id": "mj3asSbEUeso"
      },
      "source": [
        "The test summary columns [(Vallat, 2022)](https://pingouin-stats.org/generated/pingouin.chi2_independence.html#pingouin.chi2_independence):\n",
        "\n",
        "* test: The statistic name\n",
        "\n",
        "* lambda: The λ value used for the power divergence statistic\n",
        "\n",
        "* chi2: The test statistic\n",
        "\n",
        "* pval: The p-value of the test\n",
        "\n",
        "* cramer: The Cramer’s V effect size\n",
        "\n",
        "* power: The statistical power of the test\n"
      ]
    },
    {
      "cell_type": "code",
      "execution_count": null,
      "metadata": {
        "colab": {
          "base_uri": "https://localhost:8080/",
          "height": 238
        },
        "id": "VSaypOsMUKkp",
        "outputId": "c4750f60-f87c-44eb-d4a8-7785e7b38a95"
      },
      "outputs": [
        {
          "data": {
            "text/html": [
              "\n",
              "  <div id=\"df-d41b21b0-de28-4179-8b50-672846a45581\">\n",
              "    <div class=\"colab-df-container\">\n",
              "      <div>\n",
              "<style scoped>\n",
              "    .dataframe tbody tr th:only-of-type {\n",
              "        vertical-align: middle;\n",
              "    }\n",
              "\n",
              "    .dataframe tbody tr th {\n",
              "        vertical-align: top;\n",
              "    }\n",
              "\n",
              "    .dataframe thead th {\n",
              "        text-align: right;\n",
              "    }\n",
              "</style>\n",
              "<table border=\"1\" class=\"dataframe\">\n",
              "  <thead>\n",
              "    <tr style=\"text-align: right;\">\n",
              "      <th></th>\n",
              "      <th>test</th>\n",
              "      <th>lambda</th>\n",
              "      <th>chi2</th>\n",
              "      <th>dof</th>\n",
              "      <th>pval</th>\n",
              "      <th>cramer</th>\n",
              "      <th>power</th>\n",
              "    </tr>\n",
              "  </thead>\n",
              "  <tbody>\n",
              "    <tr>\n",
              "      <th>0</th>\n",
              "      <td>pearson</td>\n",
              "      <td>1.000</td>\n",
              "      <td>0.094</td>\n",
              "      <td>1.0</td>\n",
              "      <td>0.759</td>\n",
              "      <td>0.002</td>\n",
              "      <td>0.061</td>\n",
              "    </tr>\n",
              "    <tr>\n",
              "      <th>1</th>\n",
              "      <td>cressie-read</td>\n",
              "      <td>0.667</td>\n",
              "      <td>0.094</td>\n",
              "      <td>1.0</td>\n",
              "      <td>0.759</td>\n",
              "      <td>0.002</td>\n",
              "      <td>0.061</td>\n",
              "    </tr>\n",
              "    <tr>\n",
              "      <th>2</th>\n",
              "      <td>log-likelihood</td>\n",
              "      <td>0.000</td>\n",
              "      <td>0.094</td>\n",
              "      <td>1.0</td>\n",
              "      <td>0.759</td>\n",
              "      <td>0.002</td>\n",
              "      <td>0.061</td>\n",
              "    </tr>\n",
              "    <tr>\n",
              "      <th>3</th>\n",
              "      <td>freeman-tukey</td>\n",
              "      <td>-0.500</td>\n",
              "      <td>0.094</td>\n",
              "      <td>1.0</td>\n",
              "      <td>0.759</td>\n",
              "      <td>0.002</td>\n",
              "      <td>0.061</td>\n",
              "    </tr>\n",
              "    <tr>\n",
              "      <th>4</th>\n",
              "      <td>mod-log-likelihood</td>\n",
              "      <td>-1.000</td>\n",
              "      <td>0.094</td>\n",
              "      <td>1.0</td>\n",
              "      <td>0.759</td>\n",
              "      <td>0.002</td>\n",
              "      <td>0.061</td>\n",
              "    </tr>\n",
              "    <tr>\n",
              "      <th>5</th>\n",
              "      <td>neyman</td>\n",
              "      <td>-2.000</td>\n",
              "      <td>0.094</td>\n",
              "      <td>1.0</td>\n",
              "      <td>0.759</td>\n",
              "      <td>0.002</td>\n",
              "      <td>0.061</td>\n",
              "    </tr>\n",
              "  </tbody>\n",
              "</table>\n",
              "</div>\n",
              "      <button class=\"colab-df-convert\" onclick=\"convertToInteractive('df-d41b21b0-de28-4179-8b50-672846a45581')\"\n",
              "              title=\"Convert this dataframe to an interactive table.\"\n",
              "              style=\"display:none;\">\n",
              "        \n",
              "  <svg xmlns=\"http://www.w3.org/2000/svg\" height=\"24px\"viewBox=\"0 0 24 24\"\n",
              "       width=\"24px\">\n",
              "    <path d=\"M0 0h24v24H0V0z\" fill=\"none\"/>\n",
              "    <path d=\"M18.56 5.44l.94 2.06.94-2.06 2.06-.94-2.06-.94-.94-2.06-.94 2.06-2.06.94zm-11 1L8.5 8.5l.94-2.06 2.06-.94-2.06-.94L8.5 2.5l-.94 2.06-2.06.94zm10 10l.94 2.06.94-2.06 2.06-.94-2.06-.94-.94-2.06-.94 2.06-2.06.94z\"/><path d=\"M17.41 7.96l-1.37-1.37c-.4-.4-.92-.59-1.43-.59-.52 0-1.04.2-1.43.59L10.3 9.45l-7.72 7.72c-.78.78-.78 2.05 0 2.83L4 21.41c.39.39.9.59 1.41.59.51 0 1.02-.2 1.41-.59l7.78-7.78 2.81-2.81c.8-.78.8-2.07 0-2.86zM5.41 20L4 18.59l7.72-7.72 1.47 1.35L5.41 20z\"/>\n",
              "  </svg>\n",
              "      </button>\n",
              "      \n",
              "  <style>\n",
              "    .colab-df-container {\n",
              "      display:flex;\n",
              "      flex-wrap:wrap;\n",
              "      gap: 12px;\n",
              "    }\n",
              "\n",
              "    .colab-df-convert {\n",
              "      background-color: #E8F0FE;\n",
              "      border: none;\n",
              "      border-radius: 50%;\n",
              "      cursor: pointer;\n",
              "      display: none;\n",
              "      fill: #1967D2;\n",
              "      height: 32px;\n",
              "      padding: 0 0 0 0;\n",
              "      width: 32px;\n",
              "    }\n",
              "\n",
              "    .colab-df-convert:hover {\n",
              "      background-color: #E2EBFA;\n",
              "      box-shadow: 0px 1px 2px rgba(60, 64, 67, 0.3), 0px 1px 3px 1px rgba(60, 64, 67, 0.15);\n",
              "      fill: #174EA6;\n",
              "    }\n",
              "\n",
              "    [theme=dark] .colab-df-convert {\n",
              "      background-color: #3B4455;\n",
              "      fill: #D2E3FC;\n",
              "    }\n",
              "\n",
              "    [theme=dark] .colab-df-convert:hover {\n",
              "      background-color: #434B5C;\n",
              "      box-shadow: 0px 1px 3px 1px rgba(0, 0, 0, 0.15);\n",
              "      filter: drop-shadow(0px 1px 2px rgba(0, 0, 0, 0.3));\n",
              "      fill: #FFFFFF;\n",
              "    }\n",
              "  </style>\n",
              "\n",
              "      <script>\n",
              "        const buttonEl =\n",
              "          document.querySelector('#df-d41b21b0-de28-4179-8b50-672846a45581 button.colab-df-convert');\n",
              "        buttonEl.style.display =\n",
              "          google.colab.kernel.accessAllowed ? 'block' : 'none';\n",
              "\n",
              "        async function convertToInteractive(key) {\n",
              "          const element = document.querySelector('#df-d41b21b0-de28-4179-8b50-672846a45581');\n",
              "          const dataTable =\n",
              "            await google.colab.kernel.invokeFunction('convertToInteractive',\n",
              "                                                     [key], {});\n",
              "          if (!dataTable) return;\n",
              "\n",
              "          const docLinkHtml = 'Like what you see? Visit the ' +\n",
              "            '<a target=\"_blank\" href=https://colab.research.google.com/notebooks/data_table.ipynb>data table notebook</a>'\n",
              "            + ' to learn more about interactive tables.';\n",
              "          element.innerHTML = '';\n",
              "          dataTable['output_type'] = 'display_data';\n",
              "          await google.colab.output.renderOutput(dataTable, element);\n",
              "          const docLink = document.createElement('div');\n",
              "          docLink.innerHTML = docLinkHtml;\n",
              "          element.appendChild(docLink);\n",
              "        }\n",
              "      </script>\n",
              "    </div>\n",
              "  </div>\n",
              "  "
            ],
            "text/plain": [
              "                 test  lambda   chi2  dof   pval  cramer  power\n",
              "0             pearson   1.000  0.094  1.0  0.759   0.002  0.061\n",
              "1        cressie-read   0.667  0.094  1.0  0.759   0.002  0.061\n",
              "2      log-likelihood   0.000  0.094  1.0  0.759   0.002  0.061\n",
              "3       freeman-tukey  -0.500  0.094  1.0  0.759   0.002  0.061\n",
              "4  mod-log-likelihood  -1.000  0.094  1.0  0.759   0.002  0.061\n",
              "5              neyman  -2.000  0.094  1.0  0.759   0.002  0.061"
            ]
          },
          "execution_count": 17,
          "metadata": {},
          "output_type": "execute_result"
        }
      ],
      "source": [
        "#Estatísitcas do Teste\n",
        "stats.round(3)"
      ]
    },
    {
      "cell_type": "markdown",
      "metadata": {
        "id": "QJdWY49vXIjZ"
      },
      "source": [
        "##**Resultados**"
      ]
    },
    {
      "cell_type": "markdown",
      "metadata": {
        "id": "S0e-4iqEXsZA"
      },
      "source": [
        "Foi realizado um teste de qui-quadrado de independência (2x2) com objetivo de investigar se havia associação entre a conversão (sim e não) e o a página de venda (página A e página B). Não foi encontrada associação significativa entre a página e a conversão (χ2(1) = 0,094, p = 0,8759)."
      ]
    },
    {
      "cell_type": "markdown",
      "metadata": {
        "id": "gyYwkkPweLPu"
      },
      "source": [
        "##**Referências**"
      ]
    },
    {
      "cell_type": "markdown",
      "metadata": {
        "id": "Q_f8CLwceYB-"
      },
      "source": [
        "Bartlett, J. (2022). Introduction to Power Analysis: A Guide to G*Power, jamovi, and Superpower. https://doi.org/10.17605/OSF.IO/PCFVJ\n",
        "\n",
        "Everitt, B. S., & Skrondal, A. (2010). The Cambridge Dictionary of Statistics. https://doi.org/10.1017/cbo9780511779633\n",
        "\n",
        "G * Power 3.1 manual. (2017). https://rdo.psu.ac.th/ResearchStandards/animal/assets/document/GPower3-2.pdf\n",
        "\n",
        "Vallat, R. pingouin.chi2_independence — pingouin 0.5.2 documentation. (n.d.).Pingouin-Stats.org. Retrieved October 2, 2022, from https://pingouin-stats.org/generated/pingouin.chi2_independence.html#pingouin.chi2_independence"
      ]
    }
  ],
  "metadata": {
    "colab": {
      "authorship_tag": "ABX9TyPE5r4Vo1OVZ1p2LfY4v3Y/",
      "collapsed_sections": [],
      "include_colab_link": true,
      "provenance": []
    },
    "kernelspec": {
      "display_name": "Python 3",
      "name": "python3"
    },
    "language_info": {
      "name": "python"
    }
  },
  "nbformat": 4,
  "nbformat_minor": 0
}
